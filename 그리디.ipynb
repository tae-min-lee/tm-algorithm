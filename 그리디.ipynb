{
  "nbformat": 4,
  "nbformat_minor": 0,
  "metadata": {
    "colab": {
      "name": "그리디.ipynb",
      "provenance": [],
      "authorship_tag": "ABX9TyMsmHOUGh/V31RU1MyMYk/N",
      "include_colab_link": true
    },
    "kernelspec": {
      "name": "python3",
      "display_name": "Python 3"
    },
    "language_info": {
      "name": "python"
    }
  },
  "cells": [
    {
      "cell_type": "markdown",
      "metadata": {
        "id": "view-in-github",
        "colab_type": "text"
      },
      "source": [
        "<a href=\"https://colab.research.google.com/github/tae-min-lee/tm-algorithm/blob/main/%EA%B7%B8%EB%A6%AC%EB%94%94.ipynb\" target=\"_parent\"><img src=\"https://colab.research.google.com/assets/colab-badge.svg\" alt=\"Open In Colab\"/></a>"
      ]
    },
    {
      "cell_type": "markdown",
      "metadata": {
        "id": "SjQ30Q1cNd54"
      },
      "source": [
        "## 그리디 알고리즘\n",
        "\n",
        "- 현재 상황에서 지금 당장 좋은 것만 고르는 방법\n",
        "- 사전에 외우고 있지 않아도 풀 수 있을 가능성이 높은 문제 유형\n",
        "- 창의력을 요구하는 문제"
      ]
    },
    {
      "cell_type": "markdown",
      "metadata": {
        "id": "JnigcwXmOeWG"
      },
      "source": [
        "### 거스름돈 \n",
        "- 손님에게 거슬러 줘야 할 돈이 N원일 때 거슬러 줘야 할 동전의 최소 개수를 구하는 것.단 N은 항상 10의 배수이다\n",
        "\n",
        "- '가장 큰 화폐 단위'부터 돈을 거슬러 주는 것"
      ]
    },
    {
      "cell_type": "code",
      "metadata": {
        "colab": {
          "base_uri": "https://localhost:8080/"
        },
        "id": "Hf9ri4zaNa6o",
        "outputId": "7ab3a957-879f-465b-c4a3-21a7c0df5403"
      },
      "source": [
        "n =1260\n",
        "\n",
        "count = 0\n",
        "\n",
        "coin_type =[500,100,50,10]\n",
        "\n",
        "for coin in coin_type:\n",
        "  count += n //coin\n",
        "  n = n%coin\n",
        "\n",
        "print(count)"
      ],
      "execution_count": null,
      "outputs": [
        {
          "output_type": "stream",
          "text": [
            "6\n"
          ],
          "name": "stdout"
        }
      ]
    },
    {
      "cell_type": "markdown",
      "metadata": {
        "id": "MPgb9ueKPu63"
      },
      "source": [
        "- 탐욕적으로 문제에 접근했을 때 정확한 답을 찾을 수 있다는 보장이 있을 떄는 매우 효과적이고 직관적이다.\n",
        "\n",
        "- 대부분의 그리디 알고리즘 문제에서는 문제 풀이를 위한 최소한의 아이디어를 떠올리고 이것이 정당한지 검토할 수 있어야 답을 도축할 수 있다. "
      ]
    },
    {
      "cell_type": "markdown",
      "metadata": {
        "id": "qD3ZtQ_VSP64"
      },
      "source": [
        "### 큰 수의 법칙\n",
        "\n",
        "- 다양한 수로 이루어진 배열이 있을 때 주어진 수들을 M번 더하여 가장 큰 수를 만드는 법칙이다. 단, 배열의 특정한 인데스에 해당하는 수가 연속해서 K번을 초과하여 더해질 수 없다."
      ]
    },
    {
      "cell_type": "markdown",
      "metadata": {
        "id": "JLqeFvR5YAXA"
      },
      "source": [
        "- 입력값 중에서 가장 큰 수와 두번쨰로 큰 수만을 저장하면 된다. 연속으로 더할 수 있는 횟수는 최대 K번이므로'가장 큰 수를 k번 더하고 두 번째로 큰 수를 한 번 더하는 연산'을 반복하면된다"
      ]
    },
    {
      "cell_type": "code",
      "metadata": {
        "colab": {
          "base_uri": "https://localhost:8080/"
        },
        "id": "YgHKkndMU32Y",
        "outputId": "2cb1b9d9-078e-4258-b47f-e7725a8ec52e"
      },
      "source": [
        "n , m, k = map(int,input().split())\n",
        "data = list(map(int,input().split()))"
      ],
      "execution_count": null,
      "outputs": [
        {
          "output_type": "stream",
          "text": [
            "2 4 5\n",
            "7 9\n"
          ],
          "name": "stdout"
        }
      ]
    },
    {
      "cell_type": "code",
      "metadata": {
        "id": "t-VQrV92aHSl"
      },
      "source": [
        "data.sort()\n",
        "first= data[n-1]\n",
        "second = data[n-2]"
      ],
      "execution_count": null,
      "outputs": []
    },
    {
      "cell_type": "code",
      "metadata": {
        "id": "puFOfv4FaO3G"
      },
      "source": [
        "result = 0"
      ],
      "execution_count": null,
      "outputs": []
    },
    {
      "cell_type": "code",
      "metadata": {
        "colab": {
          "base_uri": "https://localhost:8080/"
        },
        "id": "7PoT-tQoaROl",
        "outputId": "0063a807-cdb5-4eec-9e41-645bf9694caa"
      },
      "source": [
        "while 1:\n",
        "  for i in range(k):\n",
        "    if m == 0:\n",
        "      break\n",
        "    result += first\n",
        "    m -= 1\n",
        "  \n",
        "  if m==0:\n",
        "    break\n",
        "  result += second\n",
        "  m -=1\n",
        "\n",
        "print(result)"
      ],
      "execution_count": null,
      "outputs": [
        {
          "output_type": "stream",
          "text": [
            "36\n"
          ],
          "name": "stdout"
        }
      ]
    },
    {
      "cell_type": "markdown",
      "metadata": {
        "id": "zuGzGniNgc0V"
      },
      "source": [
        "#### M이 매우 큰 수일 떄\n",
        "- 간단한 수학적 아이디어를 이용해 더 효율적으로 문제 해결이 가능하다\n",
        "  - 예를 들어 N=5, 가장 큰 수=6, 두 번째 큰 수=5, M=8, K=3이라면 (6,6,6,5)+(6,6,6,5)로 정답은 46이된다.\n",
        "  - 먼저 반복되는 수열에 대해서 파악해야 한다. 가장 큰 수와 두 번쨰로 큰 수가 더해질 때는 특정한 수열 형태로 일정하게 반복해서 더해지는 특징이 있다. 따라서 M을 (K+1)로 나눈 몫이 수열이 반복되는 횟수가 된다. 다시 여기에 K를 곱해주면 가장 큰 수가 등장하는 횟수가 된다\n",
        "  - M이 나누어떨어지지 않을 경우에는 M을 (K+1)로 나눈 나머지만큼 가장 큰 수가 추가로 더해지므로 이를 고려해주면 된디\n",
        "  - int( M / (K+1)) * K + M%(K + 1)"
      ]
    },
    {
      "cell_type": "code",
      "metadata": {
        "id": "08tsiHCrdbbu"
      },
      "source": [
        "n , m, k = map(int,input().split())\n",
        "data = list(map(int,input().split()))"
      ],
      "execution_count": null,
      "outputs": []
    },
    {
      "cell_type": "code",
      "metadata": {
        "id": "MI24aZYMh3Ia"
      },
      "source": [
        "data.sort()\n",
        "first= data[n-1]\n",
        "second = data[n-2]"
      ],
      "execution_count": null,
      "outputs": []
    },
    {
      "cell_type": "code",
      "metadata": {
        "id": "7YXiQ6P6h5jL"
      },
      "source": [
        "count = int(m/(k+1))*k\n",
        "count += m % (k+1) # count는 가장 큰 수가 나오는 횟수\n",
        "\n",
        "result = 0\n",
        "result += (count)*first\n",
        "result += (m-count)*second\n",
        "\n",
        "print(result)"
      ],
      "execution_count": null,
      "outputs": []
    },
    {
      "cell_type": "markdown",
      "metadata": {
        "id": "R4QK_Gr8jDVJ"
      },
      "source": [
        "### 숫자 카드 게임\n",
        "\n",
        "숫자 카드 게임은 여러 개의 숫자 카드 중에서 가장 높은 숫자가 쓰인 카드 한 장을 뽑는 게임이다\n",
        "(룰은 아래와 같다)\n",
        "1. 숫자 카드들은 N x M 행렬의 형태이다\n",
        "2. 먼저 뽑고자 하는 카드가 포함된 행을 선택한다\n",
        "3. 그다음 선택된 행에 포함된 카드들 중 가장 숫자가 낮은 카드를 뽑아야 한다\n",
        "4. 따라서 처음에 카드를 골라낼 행을 선택할 때, 이후에 해당 행에서 가장 숫자가 낮은 카드를 뽑을 것을 고려하여 최종적으로 가장 높은 숫자의 카드를 뽑을 수 있도록 전략을 세워야한다"
      ]
    },
    {
      "cell_type": "markdown",
      "metadata": {
        "id": "G5dTiSLbda1D"
      },
      "source": [
        "- 첫쨰 줄에 숫자 카드들이 놓인 행의 개수 N과 열의 개수M이 공백을 기준으로 하여 각각 자연수로 주어진다\n",
        "- 둘째 줄부터 N개의 줄에 걸처 각 카드에 적힌 숫자가 주어진다. 각 숫자는 1이상 10000이하의 자연수이다"
      ]
    },
    {
      "cell_type": "markdown",
      "metadata": {
        "id": "7_WoxxTFhEbX"
      },
      "source": [
        "- \n",
        "   - 문제를 푸는 아이디어는 '각 행마다 가장 작은 수를 찾은 뒤에 그 수 중에서 가장 큰 수'를 찾는 것"
      ]
    },
    {
      "cell_type": "code",
      "metadata": {
        "id": "6gPTdkGskrTD",
        "colab": {
          "base_uri": "https://localhost:8080/"
        },
        "outputId": "fa40ef94-2291-4459-94d3-f8c59f3c1f39"
      },
      "source": [
        "N , M = map(int,input().split()) # 행과 열을 입력 받음\n",
        "\n",
        "result = 0\n",
        "\n",
        "for i in range(N):# 각 행의 수 만큼 반복\n",
        "  data = list(map(int,input().split()))\n",
        "  min_value = min(data) # 받은 각 행의 최솟값을 구함\n",
        "  result = max(result,min_value) # 최솟값들 중 가장 큰 값을 구함\n",
        "\n",
        "print(result)"
      ],
      "execution_count": null,
      "outputs": [
        {
          "output_type": "stream",
          "text": [
            "3 3\n",
            "3 1 2\n",
            "4 1 4\n",
            "2 2 2\n",
            "2\n"
          ],
          "name": "stdout"
        }
      ]
    },
    {
      "cell_type": "markdown",
      "metadata": {
        "id": "j3Lk0wCvi7a2"
      },
      "source": [
        "### 1이 될 때까지\n",
        "어떤 수 N이 될 때까지 다음의 두 과정 중 하나를 반복적으로 선택하여 수행한다\n",
        "1. N에서 1을 뺀다\n",
        "2. N을 K로 나눈다\n",
        "\n",
        "N과 K가 주어질 때 N이 1이 될 때까지의 최소 횟수를 구하여라"
      ]
    },
    {
      "cell_type": "code",
      "metadata": {
        "colab": {
          "base_uri": "https://localhost:8080/"
        },
        "id": "b1MmtFhagW9o",
        "outputId": "9ec04691-9ba1-425a-8b5b-4b461c187075"
      },
      "source": [
        "# 내가 푼 알고리즘\n",
        "N , K = map(int,input().split())\n",
        "\n",
        "count =0\n",
        "\n",
        "while N != 1:\n",
        "  if N % K == 0:\n",
        "    N = N //K\n",
        "    count +=1\n",
        "  else:\n",
        "    N -=1\n",
        "    count+=1\n",
        "\n",
        "print(count)"
      ],
      "execution_count": null,
      "outputs": [
        {
          "output_type": "stream",
          "text": [
            "3 5\n",
            "2\n"
          ],
          "name": "stdout"
        }
      ]
    },
    {
      "cell_type": "code",
      "metadata": {
        "id": "VTScewWQlRUh"
      },
      "source": [
        ""
      ],
      "execution_count": null,
      "outputs": []
    }
  ]
}